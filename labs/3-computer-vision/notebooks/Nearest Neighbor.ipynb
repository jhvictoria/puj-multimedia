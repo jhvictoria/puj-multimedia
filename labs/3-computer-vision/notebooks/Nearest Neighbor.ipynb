{
 "cells": [
  {
   "cell_type": "markdown",
   "metadata": {},
   "source": [
    "# kNN"
   ]
  },
  {
   "cell_type": "code",
   "execution_count": 24,
   "metadata": {},
   "outputs": [],
   "source": [
    "import numpy as np"
   ]
  },
  {
   "cell_type": "code",
   "execution_count": 25,
   "metadata": {},
   "outputs": [],
   "source": [
    "def train():\n",
    "    data = np.array([\n",
    "        [1,1,2,1,2,3],\n",
    "        [1,2,3,1,1,2],\n",
    "        [2,4,4,5,3,4],\n",
    "        [5,2,3,4,6,3],\n",
    "        [5,7,4,6,7,5],\n",
    "        [7,8,5,7,6,7]\n",
    "    ])\n",
    "\n",
    "    labels = np.array([\n",
    "        0,0,1,1,2,2\n",
    "    ])\n",
    "    return data, labels"
   ]
  },
  {
   "cell_type": "code",
   "execution_count": 26,
   "metadata": {},
   "outputs": [],
   "source": [
    "def predict(sample):\n",
    "    print(do_predict(np.array(sample)))\n",
    "\n",
    "def do_predict(sample):\n",
    "    data, labels = train()\n",
    "    agg = np.sum(np.abs(data - sample), axis=1)\n",
    "    index = np.argmin(agg)\n",
    "    return labels[index]"
   ]
  },
  {
   "cell_type": "code",
   "execution_count": 27,
   "metadata": {},
   "outputs": [
    {
     "name": "stdout",
     "output_type": "stream",
     "text": [
      "0\n",
      "1\n",
      "2\n"
     ]
    }
   ],
   "source": [
    "predict([1,3,2,1,3,2])\n",
    "predict([2,4,5,3,4,4])\n",
    "predict([6,4,6,3,7,6])"
   ]
  },
  {
   "cell_type": "code",
   "execution_count": null,
   "metadata": {},
   "outputs": [],
   "source": []
  }
 ],
 "metadata": {
  "kernelspec": {
   "display_name": "Python 3",
   "language": "python",
   "name": "python3"
  },
  "language_info": {
   "codemirror_mode": {
    "name": "ipython",
    "version": 3
   },
   "file_extension": ".py",
   "mimetype": "text/x-python",
   "name": "python",
   "nbconvert_exporter": "python",
   "pygments_lexer": "ipython3",
   "version": "3.6.5"
  }
 },
 "nbformat": 4,
 "nbformat_minor": 2
}
